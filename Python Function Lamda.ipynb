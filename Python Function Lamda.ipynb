{
  "nbformat": 4,
  "nbformat_minor": 0,
  "metadata": {
    "colab": {
      "provenance": []
    },
    "kernelspec": {
      "name": "python3",
      "display_name": "Python 3"
    },
    "language_info": {
      "name": "python"
    }
  },
  "cells": [
    {
      "cell_type": "code",
      "execution_count": 2,
      "metadata": {
        "colab": {
          "base_uri": "https://localhost:8080/"
        },
        "id": "G1xvfPX5QMRA",
        "outputId": "a014ac33-17bd-4ad5-a135-ebb491b2e226"
      },
      "outputs": [
        {
          "output_type": "stream",
          "name": "stdout",
          "text": [
            "[2, 6, 8, 4, 6, 2]\n"
          ]
        }
      ],
      "source": [
        "def is_even(n):\n",
        "  return n % 2 ==0\n",
        "nums = [3,2,6,8,4,6,2,9]\n",
        "\n",
        "evens=list(filter(is_even,nums))\n",
        "print(evens)"
      ]
    },
    {
      "cell_type": "code",
      "source": [
        "nums=[3,2,6,8,4,6,2,9]\n",
        "\n",
        "evens=list(filter(lambda n:n%2==0,nums))\n",
        "\n",
        "print(evens)"
      ],
      "metadata": {
        "colab": {
          "base_uri": "https://localhost:8080/"
        },
        "id": "lK6ncFVcQ9u7",
        "outputId": "5ab7a24c-1549-4b32-be68-368bfe3e2991"
      },
      "execution_count": 3,
      "outputs": [
        {
          "output_type": "stream",
          "name": "stdout",
          "text": [
            "[2, 6, 8, 4, 6, 2]\n"
          ]
        }
      ]
    },
    {
      "cell_type": "code",
      "source": [
        "nums=[3,2,6,8,4,6,2,9]\n",
        "\n",
        "odds=list(filter(lambda n:n%2!=0,nums))\n",
        "\n",
        "print(odds)"
      ],
      "metadata": {
        "colab": {
          "base_uri": "https://localhost:8080/"
        },
        "id": "bfGN_SwbQ958",
        "outputId": "bc7c6ebd-b82b-4b5b-e4b7-5f9cba672bed"
      },
      "execution_count": 4,
      "outputs": [
        {
          "output_type": "stream",
          "name": "stdout",
          "text": [
            "[3, 9]\n"
          ]
        }
      ]
    },
    {
      "cell_type": "code",
      "source": [
        "def update(n):\n",
        "  return n-2\n",
        "\n",
        "nums=[3,2,6,8,4,6,2,9]\n",
        "\n",
        "evens=list(filter(is_even,nums))\n",
        "double=list(map(update,evens))\n",
        "\n",
        "print(evens)\n",
        "print(double)"
      ],
      "metadata": {
        "colab": {
          "base_uri": "https://localhost:8080/"
        },
        "id": "TGPXdLFUQ99s",
        "outputId": "6e8b5b94-d600-4c5c-e5ce-08b2794548c3"
      },
      "execution_count": 6,
      "outputs": [
        {
          "output_type": "stream",
          "name": "stdout",
          "text": [
            "[2, 6, 8, 4, 6, 2]\n",
            "[0, 4, 6, 2, 4, 0]\n"
          ]
        }
      ]
    },
    {
      "cell_type": "code",
      "source": [
        "\n",
        "nums=[3,2,6,8,4,6,2,9]\n",
        "\n",
        "evens=list(filter(is_even,nums))\n",
        "double=list(map(lambda n: n*2, evens))\n",
        "\n",
        "print(evens)\n",
        "print(double)"
      ],
      "metadata": {
        "colab": {
          "base_uri": "https://localhost:8080/"
        },
        "id": "a40WmOTZWJOf",
        "outputId": "b4955841-9298-4961-baae-567f78073ddc"
      },
      "execution_count": 7,
      "outputs": [
        {
          "output_type": "stream",
          "name": "stdout",
          "text": [
            "[2, 6, 8, 4, 6, 2]\n",
            "[4, 12, 16, 8, 12, 4]\n"
          ]
        }
      ]
    },
    {
      "cell_type": "code",
      "source": [
        "from functools import reduce\n",
        "\n",
        "def add_all(a,b):\n",
        "  return a+b\n",
        "\n",
        "nums=[3,2,6,8,4,6,2,9]\n",
        "\n",
        "evens=list(filter(is_even,nums))\n",
        "double=list(map(lambda n:n*2,evens))\n",
        "sums=reduce(add_all,double)\n",
        "\n",
        "print(double)\n",
        "print(sums)"
      ],
      "metadata": {
        "colab": {
          "base_uri": "https://localhost:8080/"
        },
        "id": "ZZwftbePY5fB",
        "outputId": "bd7039a0-1d03-4e8f-9ce5-1f81b97d361c"
      },
      "execution_count": 8,
      "outputs": [
        {
          "output_type": "stream",
          "name": "stdout",
          "text": [
            "[4, 12, 16, 8, 12, 4]\n",
            "56\n"
          ]
        }
      ]
    },
    {
      "cell_type": "code",
      "source": [
        "from functools import reduce\n",
        "\n",
        "nums=[3,2,6,8,4,6,2,9]\n",
        "\n",
        "evens= list(filter(is_even,nums))\n",
        "double=list(map(lambda n:n*2,evens))\n",
        "sums= (reduce(lambda a,b : a+b,double))\n",
        "\n",
        "print(evens)\n",
        "print(double)\n",
        "print(sums)"
      ],
      "metadata": {
        "colab": {
          "base_uri": "https://localhost:8080/"
        },
        "id": "YUoo1OpyWJe8",
        "outputId": "7c7ec0d5-84bb-4de0-fbef-09aa5785036d"
      },
      "execution_count": 9,
      "outputs": [
        {
          "output_type": "stream",
          "name": "stdout",
          "text": [
            "[2, 6, 8, 4, 6, 2]\n",
            "[4, 12, 16, 8, 12, 4]\n",
            "56\n"
          ]
        }
      ]
    },
    {
      "cell_type": "code",
      "source": [],
      "metadata": {
        "id": "7bFtx6IXcOHc"
      },
      "execution_count": null,
      "outputs": []
    }
  ]
}